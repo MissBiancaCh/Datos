{
 "cells": [
  {
   "cell_type": "markdown",
   "id": "77ed6eb6",
   "metadata": {},
   "source": [
    "# Predicción de un Activo Financiero con Minería de Datos\n",
    "\n",
    "En este notebook aprenderemos a:\n",
    "1. Descargar y graficar datos de un activo financiero con `yfinance`.\n",
    "2. Analizar los datos y calcular estadísticas básicas.\n",
    "3. Preparar variables explicativas (features).\n",
    "4. Dividir en datos de entrenamiento y prueba.\n",
    "5. Aplicar modelos de predicción: Regresión Lineal, Random Forest y ARIMA.\n",
    "6. Evaluar y comparar resultados.\n",
    "7. Responder preguntas guía para interpretar el ejercicio.\n",
    "\n",
    "---\n"
   ]
  },
  {
   "cell_type": "code",
   "execution_count": null,
   "id": "d7b80a70",
   "metadata": {},
   "outputs": [],
   "source": [
    "# Instalar librerías necesarias (ejecutar si falta alguna)\n",
    "# !pip install yfinance pandas numpy matplotlib scikit-learn statsmodels\n"
   ]
  },
  {
   "cell_type": "code",
   "execution_count": null,
   "id": "7fc422bc",
   "metadata": {},
   "outputs": [],
   "source": [
    "import yfinance as yf\n",
    "import pandas as pd\n",
    "import numpy as np\n",
    "import matplotlib.pyplot as plt\n",
    "from sklearn.linear_model import LinearRegression\n",
    "from sklearn.ensemble import RandomForestRegressor\n",
    "from sklearn.metrics import mean_squared_error, mean_absolute_error\n",
    "import warnings\n",
    "\n",
    "warnings.filterwarnings(\"ignore\")\n",
    "plt.rcParams['figure.figsize'] = (10,6)\n"
   ]
  },
  {
   "cell_type": "markdown",
   "id": "9ced7627",
   "metadata": {},
   "source": [
    "## 1. Descargar y visualizar datos del activo"
   ]
  },
  {
   "cell_type": "code",
   "execution_count": null,
   "id": "c0269757",
   "metadata": {},
   "outputs": [],
   "source": [
    "TICKER = \"AAPL\"\n",
    "YEARS = 5\n",
    "\n",
    "try:\n",
    "    data = yf.download(TICKER, period=f\"{YEARS}y\")\n",
    "except Exception as e:\n",
    "    print(\"No se pudieron descargar datos reales. Generando datos sintéticos...\")\n",
    "    dates = pd.date_range(start=\"2020-01-01\", periods=1000, freq=\"B\")\n",
    "    np.random.seed(42)\n",
    "    prices = np.cumsum(np.random.normal(0,1,len(dates))) + 100\n",
    "    data = pd.DataFrame({\"Close\": prices}, index=dates)\n",
    "\n",
    "data = data[['Close']].dropna()\n",
    "data.head()\n"
   ]
  },
  {
   "cell_type": "code",
   "execution_count": null,
   "id": "b14b2f5c",
   "metadata": {},
   "outputs": [],
   "source": [
    "data['Close'].plot(title=f\"Precio de cierre de {TICKER}\")\n",
    "plt.show()\n"
   ]
  },
  {
   "cell_type": "markdown",
   "id": "bcc7ae38",
   "metadata": {},
   "source": [
    "## 2. Análisis de datos y estadísticas básicas"
   ]
  },
  {
   "cell_type": "code",
   "execution_count": null,
   "id": "0d06de9d",
   "metadata": {},
   "outputs": [],
   "source": [
    "rets = data['Close'].pct_change().dropna()\n",
    "\n",
    "total_return = data['Close'][-1]/data['Close'][0] - 1\n",
    "annual_return = (1+total_return)**(252/len(data)) - 1\n",
    "volatility = rets.std()*np.sqrt(252)\n",
    "max_dd = (data['Close']/data['Close'].cummax() - 1).min()\n",
    "\n",
    "print(\"Rendimiento total: {:.2%}\".format(total_return))\n",
    "print(\"Rendimiento anualizado: {:.2%}\".format(annual_return))\n",
    "print(\"Volatilidad anualizada: {:.2%}\".format(volatility))\n",
    "print(\"Máxima caída (drawdown): {:.2%}\".format(max_dd))\n",
    "\n",
    "rets.plot(title=\"Rendimientos diarios (%)\")\n",
    "plt.show()\n"
   ]
  },
  {
   "cell_type": "markdown",
   "id": "8276197b",
   "metadata": {},
   "source": [
    "## 3. Preparación de variables explicativas (features)"
   ]
  },
  {
   "cell_type": "code",
   "execution_count": null,
   "id": "1b09e693",
   "metadata": {},
   "outputs": [],
   "source": [
    "df = data.copy()\n",
    "df['Return'] = df['Close'].pct_change()\n",
    "df['Lag1'] = df['Close'].shift(1)\n",
    "df['Lag2'] = df['Close'].shift(2)\n",
    "df['Volatility20'] = df['Return'].rolling(20).std()\n",
    "df['Volume'] = np.random.randint(1e6,5e6,len(df))  # proxy simple\n",
    "df['Target'] = df['Close'].shift(-1)\n",
    "df = df.dropna()\n",
    "df.head()\n"
   ]
  },
  {
   "cell_type": "markdown",
   "id": "6d30551f",
   "metadata": {},
   "source": [
    "## 4. División en entrenamiento y prueba"
   ]
  },
  {
   "cell_type": "code",
   "execution_count": null,
   "id": "f61c89d5",
   "metadata": {},
   "outputs": [],
   "source": [
    "TEST_DAYS = 90\n",
    "train, test = df.iloc[:-TEST_DAYS], df.iloc[-TEST_DAYS:]\n",
    "X_train, y_train = train[['Lag1','Lag2','Volatility20','Volume']], train['Target']\n",
    "X_test, y_test = test[['Lag1','Lag2','Volatility20','Volume']], test['Target']\n"
   ]
  },
  {
   "cell_type": "markdown",
   "id": "6539a6ca",
   "metadata": {},
   "source": [
    "## 5. Modelos de predicción"
   ]
  },
  {
   "cell_type": "code",
   "execution_count": null,
   "id": "c863fac1",
   "metadata": {},
   "outputs": [],
   "source": [
    "models = {}\n",
    "\n",
    "# Regresión Lineal\n",
    "lr = LinearRegression().fit(X_train, y_train)\n",
    "models['Linear Regression'] = lr\n",
    "\n",
    "# Random Forest\n",
    "rf = RandomForestRegressor(n_estimators=100, random_state=42).fit(X_train, y_train)\n",
    "models['Random Forest'] = rf\n",
    "\n",
    "# ARIMA\n",
    "try:\n",
    "    from statsmodels.tsa.arima.model import ARIMA\n",
    "    arima_model = ARIMA(train['Close'], order=(1,1,1)).fit()\n",
    "    arima_forecast = arima_model.forecast(steps=len(test))\n",
    "    models['ARIMA'] = arima_forecast\n",
    "except:\n",
    "    print(\"Statsmodels no disponible, se omite ARIMA\")\n"
   ]
  },
  {
   "cell_type": "markdown",
   "id": "83720aac",
   "metadata": {},
   "source": [
    "## 6. Evaluación de modelos"
   ]
  },
  {
   "cell_type": "code",
   "execution_count": null,
   "id": "cf38045d",
   "metadata": {},
   "outputs": [],
   "source": [
    "for name, model in models.items():\n",
    "    if name == 'ARIMA':\n",
    "        preds = model.values\n",
    "    else:\n",
    "        preds = model.predict(X_test)\n",
    "    rmse = mean_squared_error(y_test, preds, squared=False)\n",
    "    mae = mean_absolute_error(y_test, preds)\n",
    "    print(f\"{name} -> RMSE: {rmse:.2f}, MAE: {mae:.2f}\")\n",
    "    \n",
    "    plt.plot(y_test.index, y_test, label=\"Real\")\n",
    "    plt.plot(y_test.index, preds, label=\"Predicción\")\n",
    "    plt.title(name)\n",
    "    plt.legend()\n",
    "    plt.show()\n"
   ]
  },
  {
   "cell_type": "markdown",
   "id": "b851b64b",
   "metadata": {},
   "source": [
    "## 7. Preguntas guía para el análisis"
   ]
  },
  {
   "cell_type": "code",
   "execution_count": null,
   "id": "6e284a7e",
   "metadata": {},
   "outputs": [],
   "source": [
    "print(\"1. ¿Qué periodo estamos observando?\")\n",
    "print(f\"   Desde {data.index[0].date()} hasta {data.index[-1].date()}\")\n",
    "\n",
    "print(\"\\n2. ¿Por qué ese activo y horizonte de tiempo?\")\n",
    "print(\"   Porque es una acción representativa y un periodo suficientemente largo para observar ciclos.\")\n",
    "\n",
    "print(\"\\n3. ¿Qué observamos en la tendencia y volatilidad?\")\n",
    "print(\"   Los precios muestran fluctuaciones, con periodos de crecimiento y caídas; la volatilidad refleja los riesgos.\")\n",
    "\n",
    "print(\"\\n4. ¿Qué limitaciones tienen los modelos?\")\n",
    "print(\"   La linealidad en la regresión, el sobreajuste en Random Forest y la suposición de estacionariedad en ARIMA.\")\n",
    "\n",
    "print(\"\\n5. ¿Cómo mejorar el pronóstico?\")\n",
    "print(\"   Usando más datos, variables externas (macro, sentimiento), optimización de hiperparámetros o modelos más complejos como LSTM.\")\n"
   ]
  }
 ],
 "metadata": {},
 "nbformat": 4,
 "nbformat_minor": 5
}
