{
 "cells": [
  {
   "cell_type": "markdown",
   "id": "e8a6d165",
   "metadata": {},
   "source": [
    "\n",
    "# 📘 Predicción del Consumo de un Hogar  \n",
    "\n",
    "En este cuaderno trabajaremos con la base `datos_hogar.csv` para **analizar y predecir el consumo mensual de un hogar** \n",
    "en función de variables socioeconómicas.  \n",
    "\n",
    "El ejercicio sigue los pasos de minería de datos: exploración, visualización, modelado y evaluación.\n"
   ]
  },
  {
   "cell_type": "code",
   "execution_count": null,
   "id": "82bd83fe",
   "metadata": {},
   "outputs": [],
   "source": [
    "\n",
    "import pandas as pd\n",
    "import numpy as np\n",
    "import matplotlib.pyplot as plt\n",
    "import seaborn as sns\n",
    "\n",
    "from sklearn.model_selection import train_test_split\n",
    "from sklearn.linear_model import LinearRegression\n",
    "from sklearn.ensemble import RandomForestRegressor\n",
    "from sklearn.metrics import mean_squared_error, mean_absolute_error, r2_score\n"
   ]
  },
  {
   "cell_type": "code",
   "execution_count": null,
   "id": "a1536977",
   "metadata": {},
   "outputs": [],
   "source": [
    "\n",
    "# Cargar la base de datos\n",
    "df = pd.read_csv(\"datos_hogar.csv\")\n",
    "\n",
    "# Vista previa\n",
    "df.head()\n"
   ]
  },
  {
   "cell_type": "code",
   "execution_count": null,
   "id": "55916bd8",
   "metadata": {},
   "outputs": [],
   "source": [
    "\n",
    "# Información de la base\n",
    "df.info()\n",
    "\n",
    "# Estadísticas descriptivas\n",
    "df.describe(include=\"all\")\n"
   ]
  },
  {
   "cell_type": "code",
   "execution_count": null,
   "id": "60860845",
   "metadata": {},
   "outputs": [],
   "source": [
    "\n",
    "# Histograma del consumo mensual\n",
    "plt.figure(figsize=(8,5))\n",
    "sns.histplot(df[\"consumo_mensual\"], bins=30, kde=True)\n",
    "plt.title(\"Distribución del consumo mensual\")\n",
    "plt.xlabel(\"Consumo mensual\")\n",
    "plt.ylabel(\"Frecuencia\")\n",
    "plt.show()\n"
   ]
  },
  {
   "cell_type": "code",
   "execution_count": null,
   "id": "8d8a40ac",
   "metadata": {},
   "outputs": [],
   "source": [
    "\n",
    "plt.figure(figsize=(8,5))\n",
    "sns.scatterplot(x=\"ingreso\", y=\"consumo_mensual\", data=df)\n",
    "plt.title(\"Relación entre ingreso y consumo\")\n",
    "plt.xlabel(\"Ingreso del hogar\")\n",
    "plt.ylabel(\"Consumo mensual\")\n",
    "plt.show()\n"
   ]
  },
  {
   "cell_type": "code",
   "execution_count": null,
   "id": "09ad6f45",
   "metadata": {},
   "outputs": [],
   "source": [
    "\n",
    "# Convertir variable categórica 'educacion' a dummies\n",
    "df = pd.get_dummies(df, columns=[\"educacion\"], drop_first=True)\n",
    "\n",
    "# Definir variable objetivo y predictores\n",
    "X = df.drop(\"consumo_mensual\", axis=1)\n",
    "y = df[\"consumo_mensual\"]\n",
    "\n",
    "# Dividir en entrenamiento y prueba\n",
    "X_train, X_test, y_train, y_test = train_test_split(X, y, test_size=0.2, random_state=42)\n"
   ]
  },
  {
   "cell_type": "code",
   "execution_count": null,
   "id": "0f846515",
   "metadata": {},
   "outputs": [],
   "source": [
    "\n",
    "# Ajustar regresión lineal\n",
    "lin_reg = LinearRegression()\n",
    "lin_reg.fit(X_train, y_train)\n",
    "\n",
    "# Predicciones\n",
    "y_pred_lr = lin_reg.predict(X_test)\n",
    "\n",
    "# Métricas\n",
    "mse_lr = mean_squared_error(y_test, y_pred_lr)\n",
    "rmse_lr = np.sqrt(mse_lr)\n",
    "mae_lr = mean_absolute_error(y_test, y_pred_lr)\n",
    "r2_lr = r2_score(y_test, y_pred_lr)\n",
    "\n",
    "print(\"Regresión Lineal:\")\n",
    "print(f\"RMSE: {rmse_lr:.2f}\")\n",
    "print(f\"MAE: {mae_lr:.2f}\")\n",
    "print(f\"R²: {r2_lr:.4f}\")\n"
   ]
  },
  {
   "cell_type": "code",
   "execution_count": null,
   "id": "7603e5f2",
   "metadata": {},
   "outputs": [],
   "source": [
    "\n",
    "# Ajustar Random Forest\n",
    "rf = RandomForestRegressor(n_estimators=200, random_state=42)\n",
    "rf.fit(X_train, y_train)\n",
    "\n",
    "# Predicciones\n",
    "y_pred_rf = rf.predict(X_test)\n",
    "\n",
    "# Métricas\n",
    "mse_rf = mean_squared_error(y_test, y_pred_rf)\n",
    "rmse_rf = np.sqrt(mse_rf)\n",
    "mae_rf = mean_absolute_error(y_test, y_pred_rf)\n",
    "r2_rf = r2_score(y_test, y_pred_rf)\n",
    "\n",
    "print(\"Random Forest:\")\n",
    "print(f\"RMSE: {rmse_rf:.2f}\")\n",
    "print(f\"MAE: {mae_rf:.2f}\")\n",
    "print(f\"R²: {r2_rf:.4f}\")\n"
   ]
  },
  {
   "cell_type": "code",
   "execution_count": null,
   "id": "ad42fac8",
   "metadata": {},
   "outputs": [],
   "source": [
    "\n",
    "# Comparar predicciones reales vs estimadas\n",
    "plt.figure(figsize=(10,5))\n",
    "\n",
    "plt.scatter(y_test, y_pred_lr, alpha=0.6, label=\"Regresión Lineal\")\n",
    "plt.scatter(y_test, y_pred_rf, alpha=0.6, label=\"Random Forest\")\n",
    "plt.plot([y_test.min(), y_test.max()], [y_test.min(), y_test.max()], \"k--\", lw=2)\n",
    "\n",
    "plt.xlabel(\"Valores reales\")\n",
    "plt.ylabel(\"Predicciones\")\n",
    "plt.title(\"Comparación de modelos: Real vs Predicho\")\n",
    "plt.legend()\n",
    "plt.show()\n"
   ]
  },
  {
   "cell_type": "markdown",
   "id": "9be812a8",
   "metadata": {},
   "source": [
    "\n",
    "## 🔎 Discusión de resultados  \n",
    "\n",
    "- La **Regresión Lineal** permite interpretar coeficientes y relaciones directas entre las variables.  \n",
    "- El **Random Forest** captura relaciones no lineales y puede mejorar la precisión predictiva.  \n",
    "- Se deben analizar las métricas (RMSE, MAE, R²) para comparar cuál modelo se ajusta mejor.  \n",
    "- Reflexiona: ¿qué variables resultan más influyentes en la predicción del consumo?  \n"
   ]
  }
 ],
 "metadata": {},
 "nbformat": 4,
 "nbformat_minor": 5
}
